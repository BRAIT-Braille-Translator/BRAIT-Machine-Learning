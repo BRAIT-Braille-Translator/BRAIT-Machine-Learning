{
 "cells": [
  {
   "cell_type": "code",
   "execution_count": 1,
   "id": "458c02c1-cc4d-49f5-a69a-11e20aaefd09",
   "metadata": {},
   "outputs": [
    {
     "name": "stdout",
     "output_type": "stream",
     "text": [
      "WARNING:tensorflow:From C:\\Users\\USER\\AppData\\Local\\Programs\\Python\\Python39\\lib\\site-packages\\keras\\src\\losses.py:2976: The name tf.losses.sparse_softmax_cross_entropy is deprecated. Please use tf.compat.v1.losses.sparse_softmax_cross_entropy instead.\n",
      "\n"
     ]
    }
   ],
   "source": [
    "import os\n",
    "import numpy as np\n",
    "import pandas as pd\n",
    "import shutil\n",
    "import matplotlib.pyplot as plt\n",
    "import seaborn as sns\n",
    "from sklearn.model_selection import train_test_split\n",
    "from pathlib import Path\n",
    "from shutil import copyfile\n",
    "import tensorflow as tf"
   ]
  },
  {
   "cell_type": "code",
   "execution_count": 2,
   "id": "2a880174-b9bc-4b56-9113-e7639efa436d",
   "metadata": {},
   "outputs": [],
   "source": [
    "#mengimport ImageDataGenerator\n",
    "\n",
    "from tensorflow.keras.preprocessing.image import ImageDataGenerator"
   ]
  },
  {
   "cell_type": "code",
   "execution_count": 3,
   "id": "cbd594dd-de00-43ac-b86b-0d67294ede62",
   "metadata": {},
   "outputs": [
    {
     "name": "stdout",
     "output_type": "stream",
     "text": [
      "Found 15559 images belonging to 35 classes.\n",
      "Found 3290 images belonging to 35 classes.\n"
     ]
    }
   ],
   "source": [
    "#membuat training generator\n",
    "TARGET_SIZE = (150,100)\n",
    "BATCH_SIZE = 64\n",
    "\n",
    "TRAINING_DIR = r'D:\\astungkara\\BrailleDataset\\train'\n",
    "training_datagen = ImageDataGenerator(\n",
    "      rescale = 1./255,\n",
    "      validation_split = 0.2,\n",
    "      fill_mode='nearest')\n",
    "\n",
    "TESTING_DIR = r'D:\\astungkara\\BrailleDataset\\test'\n",
    "testing_datagen = ImageDataGenerator(rescale=1./255)\n",
    "\n",
    "train_generator = training_datagen.flow_from_directory(\n",
    "\tTRAINING_DIR,\n",
    "\ttarget_size=TARGET_SIZE,\n",
    "\tclass_mode='categorical',\n",
    "  batch_size=BATCH_SIZE,\n",
    "  shuffle = True\n",
    ")\n",
    "\n",
    "test_generator = testing_datagen.flow_from_directory(\n",
    "    TESTING_DIR,\n",
    "    target_size=TARGET_SIZE,\n",
    "    class_mode='categorical',\n",
    "    batch_size=BATCH_SIZE,\n",
    "    shuffle=False\n",
    ")"
   ]
  },
  {
   "cell_type": "code",
   "execution_count": 5,
   "id": "846808bd-1b72-4e8a-886d-9f35aad5d444",
   "metadata": {},
   "outputs": [
    {
     "name": "stdout",
     "output_type": "stream",
     "text": [
      "WARNING:tensorflow:From C:\\Users\\USER\\AppData\\Local\\Programs\\Python\\Python39\\lib\\site-packages\\keras\\src\\backend.py:873: The name tf.get_default_graph is deprecated. Please use tf.compat.v1.get_default_graph instead.\n",
      "\n",
      "WARNING:tensorflow:From C:\\Users\\USER\\AppData\\Local\\Programs\\Python\\Python39\\lib\\site-packages\\keras\\src\\layers\\pooling\\max_pooling2d.py:161: The name tf.nn.max_pool is deprecated. Please use tf.nn.max_pool2d instead.\n",
      "\n"
     ]
    }
   ],
   "source": [
    "#konstruksi model\n",
    "\n",
    "model = tf.keras.models.Sequential([\n",
    "    # Note the input shape is the desired size of the image 150x100 with 3 bytes color\n",
    "    tf.keras.layers.Conv2D(16, (3,3), activation='relu', input_shape=(150, 100, 3)),\n",
    "    tf.keras.layers.MaxPooling2D(2,2),\n",
    "\n",
    "    tf.keras.layers.Conv2D(32, (3,3), activation='relu'),\n",
    "    tf.keras.layers.MaxPooling2D(2,2),\n",
    "    tf.keras.layers.Dropout(0.5),\n",
    "    \n",
    "    tf.keras.layers.Conv2D(64, (3,3), activation='relu'),\n",
    "    tf.keras.layers.MaxPooling2D(2,2),\n",
    "    tf.keras.layers.Dropout(0.5),\n",
    "    \n",
    "    tf.keras.layers.Conv2D(128, (3,3), activation='relu'),\n",
    "    tf.keras.layers.MaxPooling2D(2,2),\n",
    "    tf.keras.layers.Dropout(0.5),\n",
    "    \n",
    "    # Fully Connected Layer\n",
    "    tf.keras.layers.Flatten(),\n",
    "    tf.keras.layers.Dense(128, activation='relu'),\n",
    "    tf.keras.layers.Dense(64, activation='relu'),\n",
    "    tf.keras.layers.Dense(35, activation='softmax')\n",
    "])"
   ]
  },
  {
   "cell_type": "code",
   "execution_count": 6,
   "id": "1368da7e-f86a-46be-b60f-ffc2f477558c",
   "metadata": {},
   "outputs": [
    {
     "name": "stdout",
     "output_type": "stream",
     "text": [
      "Model: \"sequential\"\n",
      "_________________________________________________________________\n",
      " Layer (type)                Output Shape              Param #   \n",
      "=================================================================\n",
      " conv2d (Conv2D)             (None, 148, 98, 16)       448       \n",
      "                                                                 \n",
      " max_pooling2d (MaxPooling2  (None, 74, 49, 16)        0         \n",
      " D)                                                              \n",
      "                                                                 \n",
      " conv2d_1 (Conv2D)           (None, 72, 47, 32)        4640      \n",
      "                                                                 \n",
      " max_pooling2d_1 (MaxPoolin  (None, 36, 23, 32)        0         \n",
      " g2D)                                                            \n",
      "                                                                 \n",
      " dropout (Dropout)           (None, 36, 23, 32)        0         \n",
      "                                                                 \n",
      " conv2d_2 (Conv2D)           (None, 34, 21, 64)        18496     \n",
      "                                                                 \n",
      " max_pooling2d_2 (MaxPoolin  (None, 17, 10, 64)        0         \n",
      " g2D)                                                            \n",
      "                                                                 \n",
      " dropout_1 (Dropout)         (None, 17, 10, 64)        0         \n",
      "                                                                 \n",
      " conv2d_3 (Conv2D)           (None, 15, 8, 128)        73856     \n",
      "                                                                 \n",
      " max_pooling2d_3 (MaxPoolin  (None, 7, 4, 128)         0         \n",
      " g2D)                                                            \n",
      "                                                                 \n",
      " dropout_2 (Dropout)         (None, 7, 4, 128)         0         \n",
      "                                                                 \n",
      " flatten (Flatten)           (None, 3584)              0         \n",
      "                                                                 \n",
      " dense (Dense)               (None, 128)               458880    \n",
      "                                                                 \n",
      " dense_1 (Dense)             (None, 64)                8256      \n",
      "                                                                 \n",
      " dense_2 (Dense)             (None, 35)                2275      \n",
      "                                                                 \n",
      "=================================================================\n",
      "Total params: 566851 (2.16 MB)\n",
      "Trainable params: 566851 (2.16 MB)\n",
      "Non-trainable params: 0 (0.00 Byte)\n",
      "_________________________________________________________________\n"
     ]
    }
   ],
   "source": [
    "model.summary()"
   ]
  },
  {
   "cell_type": "code",
   "execution_count": 7,
   "id": "12edb60a-2dce-490b-a726-f440d9553406",
   "metadata": {},
   "outputs": [
    {
     "name": "stdout",
     "output_type": "stream",
     "text": [
      "WARNING:tensorflow:From C:\\Users\\USER\\AppData\\Local\\Programs\\Python\\Python39\\lib\\site-packages\\keras\\src\\optimizers\\__init__.py:309: The name tf.train.Optimizer is deprecated. Please use tf.compat.v1.train.Optimizer instead.\n",
      "\n"
     ]
    }
   ],
   "source": [
    "#compile model\n",
    "model.compile(\n",
    "    optimizer='adam',\n",
    "    loss='categorical_crossentropy',\n",
    "    metrics=['accuracy']\n",
    ")"
   ]
  },
  {
   "cell_type": "code",
   "execution_count": 8,
   "id": "cec8f2d8-3489-46b9-8935-876f6ec0feaa",
   "metadata": {},
   "outputs": [
    {
     "name": "stdout",
     "output_type": "stream",
     "text": [
      "Epoch 1/20\n",
      "WARNING:tensorflow:From C:\\Users\\USER\\AppData\\Local\\Programs\\Python\\Python39\\lib\\site-packages\\keras\\src\\utils\\tf_utils.py:492: The name tf.ragged.RaggedTensorValue is deprecated. Please use tf.compat.v1.ragged.RaggedTensorValue instead.\n",
      "\n",
      "WARNING:tensorflow:From C:\\Users\\USER\\AppData\\Local\\Programs\\Python\\Python39\\lib\\site-packages\\keras\\src\\engine\\base_layer_utils.py:384: The name tf.executing_eagerly_outside_functions is deprecated. Please use tf.compat.v1.executing_eagerly_outside_functions instead.\n",
      "\n",
      "244/244 - 228s - loss: 3.2209 - accuracy: 0.1044 - val_loss: 2.1172 - val_accuracy: 0.5271 - 228s/epoch - 933ms/step\n",
      "Epoch 2/20\n",
      "244/244 - 78s - loss: 0.8904 - accuracy: 0.7956 - val_loss: 0.4632 - val_accuracy: 0.9036 - 78s/epoch - 318ms/step\n",
      "Epoch 3/20\n",
      "244/244 - 77s - loss: 0.4325 - accuracy: 0.8959 - val_loss: 0.2679 - val_accuracy: 0.9474 - 77s/epoch - 314ms/step\n",
      "Epoch 4/20\n",
      "244/244 - 72s - loss: 0.3447 - accuracy: 0.9120 - val_loss: 0.2760 - val_accuracy: 0.9474 - 72s/epoch - 295ms/step\n",
      "Epoch 5/20\n",
      "244/244 - 75s - loss: 0.2798 - accuracy: 0.9277 - val_loss: 0.1509 - val_accuracy: 0.9650 - 75s/epoch - 308ms/step\n",
      "Epoch 6/20\n",
      "244/244 - 73s - loss: 0.2252 - accuracy: 0.9418 - val_loss: 0.1388 - val_accuracy: 0.9641 - 73s/epoch - 301ms/step\n",
      "Epoch 7/20\n",
      "244/244 - 70s - loss: 0.2305 - accuracy: 0.9402 - val_loss: 0.1580 - val_accuracy: 0.9644 - 70s/epoch - 286ms/step\n",
      "Epoch 8/20\n",
      "244/244 - 75s - loss: 0.1994 - accuracy: 0.9483 - val_loss: 0.1208 - val_accuracy: 0.9708 - 75s/epoch - 306ms/step\n",
      "Epoch 9/20\n",
      "244/244 - 76s - loss: 0.1740 - accuracy: 0.9547 - val_loss: 0.1299 - val_accuracy: 0.9708 - 76s/epoch - 312ms/step\n",
      "Epoch 10/20\n",
      "244/244 - 70s - loss: 0.1510 - accuracy: 0.9589 - val_loss: 0.1373 - val_accuracy: 0.9684 - 70s/epoch - 288ms/step\n",
      "Epoch 11/20\n",
      "244/244 - 75s - loss: 0.1550 - accuracy: 0.9560 - val_loss: 0.1330 - val_accuracy: 0.9678 - 75s/epoch - 305ms/step\n",
      "Epoch 12/20\n",
      "244/244 - 76s - loss: 0.1342 - accuracy: 0.9633 - val_loss: 0.1066 - val_accuracy: 0.9678 - 76s/epoch - 311ms/step\n",
      "Epoch 13/20\n",
      "244/244 - 72s - loss: 0.1349 - accuracy: 0.9608 - val_loss: 0.1178 - val_accuracy: 0.9717 - 72s/epoch - 297ms/step\n",
      "Epoch 14/20\n",
      "244/244 - 73s - loss: 0.1260 - accuracy: 0.9639 - val_loss: 0.0774 - val_accuracy: 0.9796 - 73s/epoch - 298ms/step\n",
      "Epoch 15/20\n",
      "244/244 - 75s - loss: 0.1310 - accuracy: 0.9651 - val_loss: 0.1118 - val_accuracy: 0.9696 - 75s/epoch - 309ms/step\n",
      "Epoch 16/20\n",
      "244/244 - 73s - loss: 0.1098 - accuracy: 0.9699 - val_loss: 0.1334 - val_accuracy: 0.9669 - 73s/epoch - 301ms/step\n",
      "Epoch 17/20\n",
      "244/244 - 69s - loss: 0.1117 - accuracy: 0.9682 - val_loss: 0.0734 - val_accuracy: 0.9818 - 69s/epoch - 284ms/step\n",
      "Epoch 18/20\n",
      "244/244 - 75s - loss: 0.1062 - accuracy: 0.9699 - val_loss: 0.1275 - val_accuracy: 0.9745 - 75s/epoch - 309ms/step\n",
      "Epoch 19/20\n",
      "244/244 - 74s - loss: 0.1031 - accuracy: 0.9704 - val_loss: 0.0776 - val_accuracy: 0.9802 - 74s/epoch - 304ms/step\n",
      "Epoch 20/20\n",
      "244/244 - 67s - loss: 0.1107 - accuracy: 0.9699 - val_loss: 0.1329 - val_accuracy: 0.9660 - 67s/epoch - 275ms/step\n"
     ]
    }
   ],
   "source": [
    "#training model\n",
    "history = model.fit(train_generator, \n",
    "                    epochs=20, \n",
    "                    steps_per_epoch=len(train_generator), \n",
    "                    validation_data = test_generator, \n",
    "                    verbose = 2, \n",
    "                    validation_steps=len(test_generator)\n",
    ")"
   ]
  },
  {
   "cell_type": "code",
   "execution_count": 10,
   "id": "d4ba091c-29b9-4ba1-8d01-cbe7c9d9973f",
   "metadata": {},
   "outputs": [
    {
     "data": {
      "image/png": "[encoded data removed]",
      "text/plain": [
       "<Figure size 640x480 with 1 Axes>"
      ]
     },
     "metadata": {},
     "output_type": "display_data"
    },
    {
     "data": {
      "image/png": "[encoded data removed]",
      "text/plain": [
       "<Figure size 640x480 with 1 Axes>"
      ]
     },
     "metadata": {},
     "output_type": "display_data"
    },
    {
     "data": {
      "text/plain": [
       "<Figure size 640x480 with 0 Axes>"
      ]
     },
     "metadata": {},
     "output_type": "display_data"
    }
   ],
   "source": [
    "#plot perubahan nilai accuracy dan loss pada tiap epoch saat training\n",
    "\n",
    "import matplotlib.pyplot as plt\n",
    "\n",
    "# Plot the results\n",
    "acc = history.history['accuracy']\n",
    "val_acc = history.history['val_accuracy']\n",
    "loss = history.history['loss']\n",
    "val_loss = history.history['val_loss']\n",
    "\n",
    "epochs = range(len(acc))\n",
    "\n",
    "plt.plot(epochs, acc, 'r', label='Training accuracy')\n",
    "plt.plot(epochs, val_acc, 'b', label='Validation accuracy')\n",
    "plt.title('Training and validation accuracy')\n",
    "plt.legend(loc=0)\n",
    "plt.figure()\n",
    "\n",
    "plt.plot(epochs, loss, 'r', label='Training Loss')\n",
    "plt.plot(epochs, val_loss, 'b', label='Validation Loss')\n",
    "plt.title('Training and validation Loss')\n",
    "plt.legend(loc=0)\n",
    "plt.figure()\n",
    "\n",
    "plt.show()"
   ]
  },
  {
   "cell_type": "code",
   "execution_count": 11,
   "id": "f081dd45-f244-470c-8301-64c86910ffd8",
   "metadata": {},
   "outputs": [
    {
     "data": {
      "text/plain": [
       "{'a': 0,\n",
       " 'b': 1,\n",
       " 'c': 2,\n",
       " 'colon': 3,\n",
       " 'd': 4,\n",
       " 'e': 5,\n",
       " 'f': 6,\n",
       " 'g': 7,\n",
       " 'h': 8,\n",
       " 'i': 9,\n",
       " 'j': 10,\n",
       " 'k': 11,\n",
       " 'koma': 12,\n",
       " 'l': 13,\n",
       " 'm': 14,\n",
       " 'n': 15,\n",
       " 'o': 16,\n",
       " 'p': 17,\n",
       " 'petik_satu': 18,\n",
       " 'q': 19,\n",
       " 'r': 20,\n",
       " 's': 21,\n",
       " 'semicolon': 22,\n",
       " 'space': 23,\n",
       " 't': 24,\n",
       " 'tanda_hubung': 25,\n",
       " 'tanda_seru': 26,\n",
       " 'tanda_tanya': 27,\n",
       " 'titik': 28,\n",
       " 'u': 29,\n",
       " 'v': 30,\n",
       " 'w': 31,\n",
       " 'x': 32,\n",
       " 'y': 33,\n",
       " 'z': 34}"
      ]
     },
     "execution_count": 11,
     "metadata": {},
     "output_type": "execute_result"
    }
   ],
   "source": [
    "test_generator.class_indices"
   ]
  },
  {
   "cell_type": "code",
   "execution_count": 12,
   "id": "74bc88e8-b126-45df-a0b7-8c63cf371c39",
   "metadata": {},
   "outputs": [
    {
     "name": "stderr",
     "output_type": "stream",
     "text": [
      "C:\\Users\\USER\\AppData\\Local\\Programs\\Python\\Python39\\lib\\site-packages\\keras\\src\\engine\\training.py:3103: UserWarning: You are saving your model as an HDF5 file via `model.save()`. This file format is considered legacy. We recommend using instead the native Keras format, e.g. `model.save('my_model.keras')`.\n",
      "  saving_api.save_model(\n"
     ]
    }
   ],
   "source": [
    "model.save(\"cnn_braille.h5\")"
   ]
  },
  {
   "cell_type": "code",
   "execution_count": null,
   "id": "039235e4-77ee-48b9-8866-b61b9f571381",
   "metadata": {},
   "outputs": [],
   "source": []
  }
 ],
 "metadata": {
  "kernelspec": {
   "display_name": "Python 3 (ipykernel)",
   "language": "python",
   "name": "python3"
  },
  "language_info": {
   "codemirror_mode": {
    "name": "ipython",
    "version": 3
   },
   "file_extension": ".py",
   "mimetype": "text/x-python",
   "name": "python",
   "nbconvert_exporter": "python",
   "pygments_lexer": "ipython3",
   "version": "3.9.13"
  }
 },
 "nbformat": 4,
 "nbformat_minor": 5
}
